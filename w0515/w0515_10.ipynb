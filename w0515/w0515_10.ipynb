{
 "cells": [
  {
   "cell_type": "markdown",
   "id": "518bba29",
   "metadata": {},
   "source": [
    "https://www.yeogi.com/"
   ]
  },
  {
   "cell_type": "markdown",
   "id": "9f91bb3c",
   "metadata": {},
   "source": [
    "여기어때 <br> \n",
    "오사카<br>\n",
    "9.24<br>\n",
    "9.27 검색<br>\n",
    "\n",
    "금액 220,000원 이하<br>\n",
    "평점 9.0 이상<br>\n",
    "평가수 5000명 이상<br>\n",
    "\n",
    "출력하시오.<br>"
   ]
  },
  {
   "cell_type": "markdown",
   "id": "9aec42cd",
   "metadata": {},
   "source": []
  },
  {
   "cell_type": "code",
   "execution_count": 77,
   "id": "82e93938",
   "metadata": {},
   "outputs": [],
   "source": [
    "import requests\n",
    "from bs4 import BeautifulSoup\n",
    "from selenium import webdriver\n",
    "from selenium.webdriver.common.keys import Keys\n",
    "from selenium.webdriver.common.by import By\n",
    "from selenium.webdriver.chrome.service import Service\n",
    "from selenium.webdriver.chrome.options import Options\n",
    "from selenium.webdriver.support.ui import WebDriverWait\n",
    "from selenium.webdriver.support import expected_conditions as EC\n",
    "\n",
    "import csv\n",
    "import time\n",
    "import random\n",
    "from datetime import datetime\n",
    "\n",
    "# 크롬 옵션 설정 - 셀레니움 접근 제한 : 보안접근 해제\n",
    "options = Options()\n",
    "options.add_argument(\"--disable-blink-features=AutomationControlled\")  # 자동화 티 안 나게\n",
    "options.add_argument(\"start-maximized\")\n",
    "options.add_argument(\"user-agent=Mozilla/5.0 (Windows NT 10.0; Win64; x64) AppleWebKit/537.36 (KHTML, like Gecko) Chrome/123.0.0.0 Safari/537.36\")\n",
    "options.add_experimental_option(\"excludeSwitches\", [\"enable-automation\"])\n",
    "options.add_experimental_option('useAutomationExtension', False)"
   ]
  },
  {
   "cell_type": "code",
   "execution_count": 78,
   "id": "3e29a3b5",
   "metadata": {},
   "outputs": [],
   "source": [
    "# 브라우저 실행\n",
    "browser = webdriver.Chrome(options=options)\n",
    "browser.maximize_window() # 창 최대화"
   ]
  },
  {
   "cell_type": "code",
   "execution_count": 79,
   "id": "8b5e0443",
   "metadata": {},
   "outputs": [],
   "source": [
    "### 1. 여기어때 접속\n",
    "url = \"https://www.yeogi.com/\"\n",
    "browser.get(url)"
   ]
  },
  {
   "cell_type": "code",
   "execution_count": 80,
   "id": "677a4e68",
   "metadata": {},
   "outputs": [],
   "source": [
    "# 오사카 글자 입력\n",
    "time.sleep(2)\n",
    "elem = browser.find_element(By.XPATH,'//*[@id=\"__next\"]/main/section[1]/div/div/div[2]/form/div[1]/div[1]/div/label/div/div[2]/input')\n",
    "elem.send_keys(\"오사카\")\n",
    "time.sleep(1)\n",
    "browser.find_element(By.XPATH,'//*[@id=\"__next\"]/main/section[1]/div/div/div[2]/form/div[1]/div[2]/ul/li').click()"
   ]
  },
  {
   "cell_type": "code",
   "execution_count": 81,
   "id": "0ee14fd4",
   "metadata": {},
   "outputs": [],
   "source": [
    "# 날짜 칸선택\n",
    "time.sleep(1)\n",
    "# browser.find_element(By.XPATH,'//*[@id=\"__next\"]/main/section[1]/div/div/div[2]/form/div[2]/div[1]/button').click()\n",
    "# time.sleep(3)\n",
    "# 옆으로 이동 3번\n",
    "for i in range(2):\n",
    "    browser.find_element(By.XPATH,'//*[@id=\"__next\"]/main/section[1]/div/div/div[2]/form/div[2]/div[2]/div/div[1]/div[1]/button[2]').click()\n",
    "    time.sleep(2)"
   ]
  },
  {
   "cell_type": "code",
   "execution_count": 82,
   "id": "88313f9e",
   "metadata": {},
   "outputs": [],
   "source": [
    "# 출발날짜 선택\n",
    "browser.find_element(By.XPATH,'//*[@id=\"__next\"]/main/section[1]/div/div/div[2]/form/div[2]/div[2]/div/div[1]/div[2]/div[2]/div/div/ul[2]/li[25]/button').click()\n",
    "# 도착날짜 선택\n",
    "browser.find_element(By.XPATH,'//*[@id=\"__next\"]/main/section[1]/div/div/div[2]/form/div[2]/div[2]/div/div[1]/div[2]/div[2]/div/div/ul[2]/li[25]/button').click()\n",
    "time.sleep(1)\n",
    "browser.find_element(By.XPATH,'//*[@id=\"__next\"]/main/section[1]/div/div/div[2]/form/div[4]/button').click()\n"
   ]
  },
  {
   "cell_type": "code",
   "execution_count": null,
   "id": "cdfb826d",
   "metadata": {},
   "outputs": [],
   "source": []
  }
 ],
 "metadata": {
  "kernelspec": {
   "display_name": "Python 3",
   "language": "python",
   "name": "python3"
  },
  "language_info": {
   "codemirror_mode": {
    "name": "ipython",
    "version": 3
   },
   "file_extension": ".py",
   "mimetype": "text/x-python",
   "name": "python",
   "nbconvert_exporter": "python",
   "pygments_lexer": "ipython3",
   "version": "3.13.2"
  }
 },
 "nbformat": 4,
 "nbformat_minor": 5
}
