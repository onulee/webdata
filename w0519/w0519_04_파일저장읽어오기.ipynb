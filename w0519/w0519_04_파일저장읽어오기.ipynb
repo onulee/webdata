{
 "cells": [
  {
   "cell_type": "code",
   "execution_count": 1,
   "id": "5f2dde8a",
   "metadata": {},
   "outputs": [],
   "source": [
    "import pandas as pd\n",
    "\n",
    "data = {\n",
    "    '이름':['홍길동','유관순','이순신','강감찬','김구','김유신','홍길자','홍길순'],\n",
    "    '학교':['가산고','가산고','가산고','가산고','가산고','디지털고','디지털고','디지털고'],\n",
    "    '키':[197,184,168,187,188,202,188,190],\n",
    "    '국어':[90,40,80,40,15,80,55,100],\n",
    "    '영어':[85,35,75,60,20,100,65,85],\n",
    "    '수학':[100,50,70,70,10,95,45,90],\n",
    "    '과학':[95,55,80,75,35,85,40,95],\n",
    "    '사회':[85,25,75,80,10,80,35,95],\n",
    "    'SW특기':['Python','Java','Javascript','','','C','PYTHON','C#']\n",
    "}\n",
    "\n",
    "### index추가해서 DataFrame 구성\n",
    "df = pd.DataFrame(data,index=['1번','2번','3번','4번','5번','6번','7번','8번'])\n",
    "df.index.name = '지원번호'\n"
   ]
  },
  {
   "cell_type": "markdown",
   "id": "2a7cca46",
   "metadata": {},
   "source": [
    "파일저장"
   ]
  },
  {
   "cell_type": "code",
   "execution_count": null,
   "id": "3c12ae5d",
   "metadata": {},
   "outputs": [],
   "source": [
    "### csv파일 저장하는 방법 utf-8 : 워드패드,vscode에서 읽기 가능, excel에서는 한글지원안됨.\n",
    "### utf-8-sig : excel파일에서도 한글지원가능\n",
    "# df.to_csv('score.csv',encoding='utf-8-sig')\n",
    "\n",
    "### txt파일 저장하는 방법, 기본,쉼표사용, sep옵션 구분자 변경이 가능\n",
    "# df.to_csv('data/score.txt',encoding='utf-8')\n",
    "# df.to_csv('data/score.txt',sep='\\t', encoding='utf-8')\n",
    "\n",
    "### excel파일 저장하는 방법, 인코딩 없음.\n",
    "df.to_excel('data/score.xlsx')"
   ]
  },
  {
   "cell_type": "markdown",
   "id": "20693323",
   "metadata": {},
   "source": [
    "파일 읽기"
   ]
  },
  {
   "cell_type": "code",
   "execution_count": 10,
   "id": "5f817929",
   "metadata": {},
   "outputs": [],
   "source": [
    "### csv파일 읽어오기, index지정가능 : index_col\n",
    "# df = pd.read_csv('data/score.csv',index_col='지원번호')\n",
    "\n",
    "### txt파일 읽어오기, sep구분자는 기본 쉼표를 기준으로 DataFrame형태로 변경\n",
    "# 지정된 것이 다르면 데이터 읽어오기가 제대로 안됨. 구분자를 맞춰야 함.\n",
    "# df = pd.read_csv('data/score.txt',sep='\\t',index_col='지원번호')\n",
    "# df = pd.read_csv('data/score.txt',sep='\\t')\n",
    "# df.set_index('지원번호',inplace=True)\n",
    "import pandas as pd\n",
    "\n",
    "### excel파일 읽어오기\n",
    "# df = pd.read_excel('data/score.xlsx',index_col='지원번호')\n",
    "# df\n",
    "\n"
   ]
  },
  {
   "cell_type": "code",
   "execution_count": 19,
   "id": "d74ac216",
   "metadata": {},
   "outputs": [
    {
     "name": "stderr",
     "output_type": "stream",
     "text": [
      "c:\\python3\\Lib\\site-packages\\openpyxl\\styles\\stylesheet.py:237: UserWarning: Workbook contains no default style, apply openpyxl's default\n",
      "  warn(\"Workbook contains no default style, apply openpyxl's default\")\n"
     ]
    },
    {
     "data": {
      "text/html": [
       "<div>\n",
       "<style scoped>\n",
       "    .dataframe tbody tr th:only-of-type {\n",
       "        vertical-align: middle;\n",
       "    }\n",
       "\n",
       "    .dataframe tbody tr th {\n",
       "        vertical-align: top;\n",
       "    }\n",
       "\n",
       "    .dataframe thead th {\n",
       "        text-align: right;\n",
       "    }\n",
       "</style>\n",
       "<table border=\"1\" class=\"dataframe\">\n",
       "  <thead>\n",
       "    <tr style=\"text-align: right;\">\n",
       "      <th></th>\n",
       "      <th>총인구수</th>\n",
       "      <th>남자 인구수</th>\n",
       "      <th>여자 인구수</th>\n",
       "      <th>남여 비율</th>\n",
       "    </tr>\n",
       "    <tr>\n",
       "      <th>행정기관</th>\n",
       "      <th></th>\n",
       "      <th></th>\n",
       "      <th></th>\n",
       "      <th></th>\n",
       "    </tr>\n",
       "  </thead>\n",
       "  <tbody>\n",
       "    <tr>\n",
       "      <th>전국</th>\n",
       "      <td>51,217,221</td>\n",
       "      <td>25,498,324</td>\n",
       "      <td>25,718,897</td>\n",
       "      <td>0.99</td>\n",
       "    </tr>\n",
       "  </tbody>\n",
       "</table>\n",
       "</div>"
      ],
      "text/plain": [
       "            총인구수      남자 인구수      여자 인구수  남여 비율\n",
       "행정기관                                           \n",
       "전국    51,217,221  25,498,324  25,718,897   0.99"
      ]
     },
     "execution_count": 19,
     "metadata": {},
     "output_type": "execute_result"
    }
   ],
   "source": [
    "### skiprows : 상단 row개수를 삭제후 가져오기\n",
    "### index_col : index지정\n",
    "### usecols : 필요한 컬럼만 가져오기\n",
    "### nrows : row가져오기\n",
    "df = pd.read_excel('data/202412_202412_주민등록인구및세대현황_연간.xlsx',skiprows=2,index_col='행정기관',\n",
    "                   usecols='B:C,F:H',nrows=1)\n",
    "df"
   ]
  }
 ],
 "metadata": {
  "kernelspec": {
   "display_name": "Python 3",
   "language": "python",
   "name": "python3"
  },
  "language_info": {
   "codemirror_mode": {
    "name": "ipython",
    "version": 3
   },
   "file_extension": ".py",
   "mimetype": "text/x-python",
   "name": "python",
   "nbconvert_exporter": "python",
   "pygments_lexer": "ipython3",
   "version": "3.13.2"
  }
 },
 "nbformat": 4,
 "nbformat_minor": 5
}
