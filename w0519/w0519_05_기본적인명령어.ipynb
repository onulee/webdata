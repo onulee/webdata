{
 "cells": [
  {
   "cell_type": "code",
   "execution_count": null,
   "id": "687767c2",
   "metadata": {},
   "outputs": [],
   "source": [
    "# import pandas as pd\n",
    "\n",
    "# data = {\n",
    "#     '이름':['홍길동','유관순','이순신','강감찬','김구','김유신','홍길자','홍길순'],\n",
    "#     '학교':['가산고','가산고','가산고','가산고','가산고','디지털고','디지털고','디지털고'],\n",
    "#     '키':[197,184,168,187,188,202,188,190],\n",
    "#     '국어':[90,40,80,40,15,80,55,100],\n",
    "#     '영어':[85,35,75,60,20,100,65,85],\n",
    "#     '수학':[100,50,70,70,10,95,45,90],\n",
    "#     '과학':[95,55,80,75,35,85,40,95],\n",
    "#     '사회':[85,25,75,80,10,80,35,95],\n",
    "#     'SW특기':['Python','Java','Javascript','','','C','PYTHON','C#']\n",
    "# }\n",
    "\n",
    "# ### index추가해서 DataFrame 구성\n",
    "# df = pd.DataFrame(data,index=['1번','2번','3번','4번','5번','6번','7번','8번'])\n",
    "# df.index.name = '지원번호'\n"
   ]
  },
  {
   "cell_type": "code",
   "execution_count": null,
   "id": "d767122b",
   "metadata": {},
   "outputs": [],
   "source": [
    "# 데이터 불러오기\n",
    "import pandas as pd\n",
    "df = pd.read_excel('data/score.xlsx',index_col='지원번호')"
   ]
  },
  {
   "cell_type": "markdown",
   "id": "d1f43b61",
   "metadata": {},
   "source": [
    "DataFrame 기본명령어"
   ]
  },
  {
   "cell_type": "code",
   "execution_count": 8,
   "id": "e17cde46",
   "metadata": {},
   "outputs": [],
   "source": [
    "# 앞부분 5개 출력됨. 숫자를 넣으면 숫자만큼 출력됨.\n",
    "# df.head(2)\n",
    "\n",
    "# 뒤부분 5개 출력됨. 숫자를 넣으면 숫자만큼 출력됨.\n",
    "# df.tail(3)"
   ]
  },
  {
   "cell_type": "code",
   "execution_count": 10,
   "id": "cd46bcd4",
   "metadata": {},
   "outputs": [],
   "source": [
    "# 데이터 타입이 숫자인 경우만 기본적 통계를 보여줌.\n",
    "# str타입 컬럼은 출력되지 않음.\n",
    "# df.describe()\n",
    "\n",
    "# 데이터 크기, 데이터 유형, Nan데이터 유무,개수\n",
    "# df.info()"
   ]
  },
  {
   "cell_type": "code",
   "execution_count": 16,
   "id": "e1863b29",
   "metadata": {},
   "outputs": [],
   "source": [
    "# index 리스트 출력\n",
    "# df.index\n",
    "\n",
    "# column 리스트 출력\n",
    "# df.columns"
   ]
  },
  {
   "cell_type": "code",
   "execution_count": 19,
   "id": "0c1fd938",
   "metadata": {},
   "outputs": [],
   "source": [
    "# # 데이터 크기\n",
    "# df.shape\n",
    "\n",
    "# # 배열구조 출력\n",
    "# df.values"
   ]
  },
  {
   "cell_type": "code",
   "execution_count": 28,
   "id": "8f41369d",
   "metadata": {},
   "outputs": [],
   "source": [
    "# 컬럼 출력\n",
    "# df['키']\n",
    "\n",
    "# 키 컬럼에서 큰순서로 출력, 개수입력시 개수만큼 출력\n",
    "# df['키'].nlargest(3)\n",
    "\n",
    "# 작은 순서로 출력\n",
    "# df['키'].nsmallest() # 기본 5개 출력\n",
    "# df['키'].nsmallest(3)"
   ]
  },
  {
   "cell_type": "code",
   "execution_count": 30,
   "id": "16a6342e",
   "metadata": {},
   "outputs": [
    {
     "data": {
      "text/plain": [
       "지원번호\n",
       "1번     가산고\n",
       "2번     가산고\n",
       "3번     가산고\n",
       "4번     가산고\n",
       "5번     가산고\n",
       "6번    디지털고\n",
       "7번    디지털고\n",
       "8번    디지털고\n",
       "Name: 학교, dtype: object"
      ]
     },
     "execution_count": 30,
     "metadata": {},
     "output_type": "execute_result"
    }
   ],
   "source": [
    "df['학교']"
   ]
  },
  {
   "cell_type": "code",
   "execution_count": null,
   "id": "c087bf20",
   "metadata": {},
   "outputs": [
    {
     "data": {
      "text/plain": [
       "np.int64(8)"
      ]
     },
     "execution_count": 33,
     "metadata": {},
     "output_type": "execute_result"
    }
   ],
   "source": [
    "# 중복제거후 학교 출력\n",
    "df['학교'].unique()   # 이름 출력\n",
    "df['학교'].nunique()  # 개수 출력\n",
    "\n",
    "# 개수 출력 - nan데이터 제외후 출력\n",
    "df['SW특기'].count()  # 6개 : nan데이터 2개\n",
    "df['키'].count()      # 8개"
   ]
  }
 ],
 "metadata": {
  "kernelspec": {
   "display_name": "Python 3",
   "language": "python",
   "name": "python3"
  },
  "language_info": {
   "codemirror_mode": {
    "name": "ipython",
    "version": 3
   },
   "file_extension": ".py",
   "mimetype": "text/x-python",
   "name": "python",
   "nbconvert_exporter": "python",
   "pygments_lexer": "ipython3",
   "version": "3.13.2"
  }
 },
 "nbformat": 4,
 "nbformat_minor": 5
}
