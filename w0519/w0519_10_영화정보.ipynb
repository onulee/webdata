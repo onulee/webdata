{
 "cells": [
  {
   "cell_type": "code",
   "execution_count": 5,
   "id": "f95ad4ae",
   "metadata": {},
   "outputs": [],
   "source": [
    "import pandas as pd\n",
    "\n",
    "data = {\n",
    "    '영화' : ['명량', '극한직업', '신과함께-죄와 벌', '국제시장', '괴물', '도둑들', '7번방의 선물', '암살'],\n",
    "    '개봉 연도' : [2014, 2019, 2017, 2014, 2006, 2012, 2013, 2015],\n",
    "    '관객 수' : [1761, 1626, 1441, 1426, 1301, 1298, 1281, 1270], # (단위 : 만 명)\n",
    "    '평점' : [8.88, 9.20, 8.73, 9.16, 8.62, 7.64, 8.83, 9.10]\n",
    "}\n",
    "\n",
    "### DataFrame 변경\n",
    "df = pd.DataFrame(data)"
   ]
  },
  {
   "cell_type": "code",
   "execution_count": 7,
   "id": "dee9bdb8",
   "metadata": {},
   "outputs": [],
   "source": [
    "df.set_index('영화',inplace=True)"
   ]
  },
  {
   "cell_type": "code",
   "execution_count": 11,
   "id": "91f51be9",
   "metadata": {},
   "outputs": [],
   "source": [
    "# df.sort_index() # 순차정렬\n",
    "df.sort_index(ascending=False,inplace=True)"
   ]
  },
  {
   "cell_type": "code",
   "execution_count": 13,
   "id": "d91a6e1b",
   "metadata": {},
   "outputs": [
    {
     "data": {
      "text/html": [
       "<div>\n",
       "<style scoped>\n",
       "    .dataframe tbody tr th:only-of-type {\n",
       "        vertical-align: middle;\n",
       "    }\n",
       "\n",
       "    .dataframe tbody tr th {\n",
       "        vertical-align: top;\n",
       "    }\n",
       "\n",
       "    .dataframe thead th {\n",
       "        text-align: right;\n",
       "    }\n",
       "</style>\n",
       "<table border=\"1\" class=\"dataframe\">\n",
       "  <thead>\n",
       "    <tr style=\"text-align: right;\">\n",
       "      <th></th>\n",
       "      <th>개봉 연도</th>\n",
       "      <th>관객 수</th>\n",
       "      <th>평점</th>\n",
       "    </tr>\n",
       "  </thead>\n",
       "  <tbody>\n",
       "    <tr>\n",
       "      <th>count</th>\n",
       "      <td>8.00000</td>\n",
       "      <td>8.000000</td>\n",
       "      <td>8.000000</td>\n",
       "    </tr>\n",
       "    <tr>\n",
       "      <th>mean</th>\n",
       "      <td>2013.75000</td>\n",
       "      <td>1425.500000</td>\n",
       "      <td>8.770000</td>\n",
       "    </tr>\n",
       "    <tr>\n",
       "      <th>std</th>\n",
       "      <td>3.84522</td>\n",
       "      <td>181.193661</td>\n",
       "      <td>0.501797</td>\n",
       "    </tr>\n",
       "    <tr>\n",
       "      <th>min</th>\n",
       "      <td>2006.00000</td>\n",
       "      <td>1270.000000</td>\n",
       "      <td>7.640000</td>\n",
       "    </tr>\n",
       "    <tr>\n",
       "      <th>25%</th>\n",
       "      <td>2012.75000</td>\n",
       "      <td>1293.750000</td>\n",
       "      <td>8.702500</td>\n",
       "    </tr>\n",
       "    <tr>\n",
       "      <th>50%</th>\n",
       "      <td>2014.00000</td>\n",
       "      <td>1363.500000</td>\n",
       "      <td>8.855000</td>\n",
       "    </tr>\n",
       "    <tr>\n",
       "      <th>75%</th>\n",
       "      <td>2015.50000</td>\n",
       "      <td>1487.250000</td>\n",
       "      <td>9.115000</td>\n",
       "    </tr>\n",
       "    <tr>\n",
       "      <th>max</th>\n",
       "      <td>2019.00000</td>\n",
       "      <td>1761.000000</td>\n",
       "      <td>9.200000</td>\n",
       "    </tr>\n",
       "  </tbody>\n",
       "</table>\n",
       "</div>"
      ],
      "text/plain": [
       "            개봉 연도         관객 수        평점\n",
       "count     8.00000     8.000000  8.000000\n",
       "mean   2013.75000  1425.500000  8.770000\n",
       "std       3.84522   181.193661  0.501797\n",
       "min    2006.00000  1270.000000  7.640000\n",
       "25%    2012.75000  1293.750000  8.702500\n",
       "50%    2014.00000  1363.500000  8.855000\n",
       "75%    2015.50000  1487.250000  9.115000\n",
       "max    2019.00000  1761.000000  9.200000"
      ]
     },
     "execution_count": 13,
     "metadata": {},
     "output_type": "execute_result"
    }
   ],
   "source": [
    "df.describe()"
   ]
  },
  {
   "cell_type": "code",
   "execution_count": 14,
   "id": "926b0528",
   "metadata": {},
   "outputs": [
    {
     "data": {
      "text/plain": [
       "np.float64(8.77)"
      ]
     },
     "execution_count": 14,
     "metadata": {},
     "output_type": "execute_result"
    }
   ],
   "source": [
    "df['평점'].mean()"
   ]
  },
  {
   "cell_type": "code",
   "execution_count": 16,
   "id": "a0cb25f2",
   "metadata": {},
   "outputs": [
    {
     "data": {
      "text/plain": [
       "np.int64(1270)"
      ]
     },
     "execution_count": 16,
     "metadata": {},
     "output_type": "execute_result"
    }
   ],
   "source": [
    "df['관객 수'].max()\n",
    "df['관객 수'].mean()\n",
    "df['관객 수'].min()\n"
   ]
  },
  {
   "cell_type": "code",
   "execution_count": 17,
   "id": "4d1784a6",
   "metadata": {},
   "outputs": [
    {
     "data": {
      "text/plain": [
       "영화\n",
       "명량           1761\n",
       "극한직업         1626\n",
       "신과함께-죄와 벌    1441\n",
       "국제시장         1426\n",
       "괴물           1301\n",
       "Name: 관객 수, dtype: int64"
      ]
     },
     "execution_count": 17,
     "metadata": {},
     "output_type": "execute_result"
    }
   ],
   "source": [
    "df['관객 수'].nlargest()"
   ]
  },
  {
   "cell_type": "code",
   "execution_count": null,
   "id": "d22bbac6",
   "metadata": {},
   "outputs": [],
   "source": [
    "#### index 영화로 지정해서, 역순정렬\n",
    "### 1.평점에 대한 평균, 2.최대 관객수, 3.최소 관객수를 구하시오."
   ]
  }
 ],
 "metadata": {
  "kernelspec": {
   "display_name": "Python 3",
   "language": "python",
   "name": "python3"
  },
  "language_info": {
   "codemirror_mode": {
    "name": "ipython",
    "version": 3
   },
   "file_extension": ".py",
   "mimetype": "text/x-python",
   "name": "python",
   "nbconvert_exporter": "python",
   "pygments_lexer": "ipython3",
   "version": "3.13.2"
  }
 },
 "nbformat": 4,
 "nbformat_minor": 5
}
