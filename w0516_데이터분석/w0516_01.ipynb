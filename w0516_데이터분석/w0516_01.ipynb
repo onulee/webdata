{
 "cells": [
  {
   "cell_type": "markdown",
   "id": "c86e2082",
   "metadata": {},
   "source": [
    "# 설명문"
   ]
  },
  {
   "cell_type": "markdown",
   "id": "be72e167",
   "metadata": {},
   "source": [
    "## 설명문"
   ]
  },
  {
   "cell_type": "markdown",
   "id": "30231af6",
   "metadata": {},
   "source": [
    "### 설명문\n",
    "#### 설명문\n",
    "##### 설명문\n"
   ]
  },
  {
   "cell_type": "code",
   "execution_count": 2,
   "id": "4d21b5e1",
   "metadata": {},
   "outputs": [
    {
     "name": "stdout",
     "output_type": "stream",
     "text": [
      "2\n"
     ]
    }
   ],
   "source": [
    "print(1+1)"
   ]
  },
  {
   "cell_type": "code",
   "execution_count": 5,
   "id": "d8034b10",
   "metadata": {},
   "outputs": [
    {
     "data": {
      "text/plain": [
       "2"
      ]
     },
     "execution_count": 5,
     "metadata": {},
     "output_type": "execute_result"
    }
   ],
   "source": [
    "1+1"
   ]
  },
  {
   "cell_type": "code",
   "execution_count": 7,
   "id": "557576dc",
   "metadata": {},
   "outputs": [
    {
     "data": {
      "text/plain": [
       "45"
      ]
     },
     "execution_count": 7,
     "metadata": {},
     "output_type": "execute_result"
    }
   ],
   "source": [
    "sum = 0\n",
    "for i in range(10):\n",
    "    sum += i\n",
    "sum    "
   ]
  }
 ],
 "metadata": {
  "kernelspec": {
   "display_name": "Python 3",
   "language": "python",
   "name": "python3"
  },
  "language_info": {
   "codemirror_mode": {
    "name": "ipython",
    "version": 3
   },
   "file_extension": ".py",
   "mimetype": "text/x-python",
   "name": "python",
   "nbconvert_exporter": "python",
   "pygments_lexer": "ipython3",
   "version": "3.13.2"
  }
 },
 "nbformat": 4,
 "nbformat_minor": 5
}
