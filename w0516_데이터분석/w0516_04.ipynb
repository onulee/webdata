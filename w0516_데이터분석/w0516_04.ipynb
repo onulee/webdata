{
 "cells": [
  {
   "cell_type": "markdown",
   "id": "48c9863e",
   "metadata": {},
   "source": [
    "DataFrame 2차원 데이터"
   ]
  }
 ],
 "metadata": {
  "language_info": {
   "name": "python"
  }
 },
 "nbformat": 4,
 "nbformat_minor": 5
}
