{
 "cells": [
  {
   "cell_type": "code",
   "execution_count": 7,
   "id": "fc0d5743",
   "metadata": {},
   "outputs": [],
   "source": [
    "import pandas as pd\n",
    "\n",
    "df = pd.read_csv('file/stock.csv',index_col='N')\n",
    "df.index.name = \"번호\"\n"
   ]
  },
  {
   "cell_type": "code",
   "execution_count": 9,
   "id": "58eef0a0",
   "metadata": {},
   "outputs": [
    {
     "name": "stdout",
     "output_type": "stream",
     "text": [
      "<class 'pandas.core.frame.DataFrame'>\n",
      "Index: 250 entries, 1 to 250\n",
      "Data columns (total 11 columns):\n",
      " #   Column  Non-Null Count  Dtype  \n",
      "---  ------  --------------  -----  \n",
      " 0   종목명     250 non-null    object \n",
      " 1   현재가     250 non-null    object \n",
      " 2   전일비     250 non-null    object \n",
      " 3   등락률     250 non-null    object \n",
      " 4   액면가     250 non-null    object \n",
      " 5   시가총액    250 non-null    object \n",
      " 6   상장주식수   250 non-null    object \n",
      " 7   외국인비율   250 non-null    float64\n",
      " 8   거래량     250 non-null    object \n",
      " 9   PER     207 non-null    object \n",
      " 10  ROE     202 non-null    float64\n",
      "dtypes: float64(2), object(9)\n",
      "memory usage: 23.4+ KB\n"
     ]
    }
   ],
   "source": [
    "df.info()"
   ]
  },
  {
   "cell_type": "code",
   "execution_count": 10,
   "id": "18ddc4a1",
   "metadata": {},
   "outputs": [
    {
     "data": {
      "text/html": [
       "<div>\n",
       "<style scoped>\n",
       "    .dataframe tbody tr th:only-of-type {\n",
       "        vertical-align: middle;\n",
       "    }\n",
       "\n",
       "    .dataframe tbody tr th {\n",
       "        vertical-align: top;\n",
       "    }\n",
       "\n",
       "    .dataframe thead th {\n",
       "        text-align: right;\n",
       "    }\n",
       "</style>\n",
       "<table border=\"1\" class=\"dataframe\">\n",
       "  <thead>\n",
       "    <tr style=\"text-align: right;\">\n",
       "      <th></th>\n",
       "      <th>외국인비율</th>\n",
       "      <th>ROE</th>\n",
       "    </tr>\n",
       "  </thead>\n",
       "  <tbody>\n",
       "    <tr>\n",
       "      <th>count</th>\n",
       "      <td>250.00000</td>\n",
       "      <td>202.000000</td>\n",
       "    </tr>\n",
       "    <tr>\n",
       "      <th>mean</th>\n",
       "      <td>18.42600</td>\n",
       "      <td>8.374010</td>\n",
       "    </tr>\n",
       "    <tr>\n",
       "      <th>std</th>\n",
       "      <td>16.25217</td>\n",
       "      <td>13.127001</td>\n",
       "    </tr>\n",
       "    <tr>\n",
       "      <th>min</th>\n",
       "      <td>0.00000</td>\n",
       "      <td>-53.210000</td>\n",
       "    </tr>\n",
       "    <tr>\n",
       "      <th>25%</th>\n",
       "      <td>6.52000</td>\n",
       "      <td>3.025000</td>\n",
       "    </tr>\n",
       "    <tr>\n",
       "      <th>50%</th>\n",
       "      <td>14.14500</td>\n",
       "      <td>8.085000</td>\n",
       "    </tr>\n",
       "    <tr>\n",
       "      <th>75%</th>\n",
       "      <td>28.26250</td>\n",
       "      <td>13.147500</td>\n",
       "    </tr>\n",
       "    <tr>\n",
       "      <th>max</th>\n",
       "      <td>75.18000</td>\n",
       "      <td>58.010000</td>\n",
       "    </tr>\n",
       "  </tbody>\n",
       "</table>\n",
       "</div>"
      ],
      "text/plain": [
       "           외국인비율         ROE\n",
       "count  250.00000  202.000000\n",
       "mean    18.42600    8.374010\n",
       "std     16.25217   13.127001\n",
       "min      0.00000  -53.210000\n",
       "25%      6.52000    3.025000\n",
       "50%     14.14500    8.085000\n",
       "75%     28.26250   13.147500\n",
       "max     75.18000   58.010000"
      ]
     },
     "execution_count": 10,
     "metadata": {},
     "output_type": "execute_result"
    }
   ],
   "source": [
    "df.describe()"
   ]
  },
  {
   "cell_type": "code",
   "execution_count": 11,
   "id": "47495975",
   "metadata": {},
   "outputs": [
    {
     "data": {
      "text/plain": [
       "Index(['종목명', '현재가', '전일비', '등락률', '액면가', '시가총액', '상장주식수', '외국인비율', '거래량',\n",
       "       'PER', 'ROE'],\n",
       "      dtype='object')"
      ]
     },
     "execution_count": 11,
     "metadata": {},
     "output_type": "execute_result"
    }
   ],
   "source": [
    "df.columns"
   ]
  },
  {
   "cell_type": "code",
   "execution_count": 22,
   "id": "fe8d67e7",
   "metadata": {},
   "outputs": [
    {
     "data": {
      "text/plain": [
       "RangeIndex(start=0, stop=250, step=1)"
      ]
     },
     "execution_count": 22,
     "metadata": {},
     "output_type": "execute_result"
    }
   ],
   "source": [
    "# '종목명', '현재가','등락률','시가총액' 출력하시오.\n",
    "# 10:20까지 출력하시오.\n",
    "df[['종목명', '현재가','등락률','시가총액']][10:20]  \n",
    "\n",
    "## columns 3:5까지 출력하시오. df.columns\n",
    "df[df.columns[3:6]][3:20]  # column기준으로 row출력\n",
    "\n",
    "# rows 3:30까지 출력하시오.\n",
    "# df[3:5]\n",
    "\n",
    "### 종목명을 가지고 역순정렬 상위 10개까지 출력하시오.\n",
    "df.index \n",
    "# df.reset_index(inplace=True)\n",
    "\n"
   ]
  },
  {
   "cell_type": "code",
   "execution_count": 34,
   "id": "70e9a1e9",
   "metadata": {},
   "outputs": [
    {
     "data": {
      "text/html": [
       "<div>\n",
       "<style scoped>\n",
       "    .dataframe tbody tr th:only-of-type {\n",
       "        vertical-align: middle;\n",
       "    }\n",
       "\n",
       "    .dataframe tbody tr th {\n",
       "        vertical-align: top;\n",
       "    }\n",
       "\n",
       "    .dataframe thead th {\n",
       "        text-align: right;\n",
       "    }\n",
       "</style>\n",
       "<table border=\"1\" class=\"dataframe\">\n",
       "  <thead>\n",
       "    <tr style=\"text-align: right;\">\n",
       "      <th></th>\n",
       "      <th>현재가</th>\n",
       "      <th>등락률</th>\n",
       "      <th>ROE</th>\n",
       "    </tr>\n",
       "    <tr>\n",
       "      <th>종목명</th>\n",
       "      <th></th>\n",
       "      <th></th>\n",
       "      <th></th>\n",
       "    </tr>\n",
       "  </thead>\n",
       "  <tbody>\n",
       "    <tr>\n",
       "      <th>효성티앤씨</th>\n",
       "      <td>236,500</td>\n",
       "      <td>-0.21%</td>\n",
       "      <td>9.84</td>\n",
       "    </tr>\n",
       "    <tr>\n",
       "      <th>효성중공업</th>\n",
       "      <td>532,000</td>\n",
       "      <td>+2.70%</td>\n",
       "      <td>14.90</td>\n",
       "    </tr>\n",
       "    <tr>\n",
       "      <th>호텔신라</th>\n",
       "      <td>44,050</td>\n",
       "      <td>+1.38%</td>\n",
       "      <td>-6.50</td>\n",
       "    </tr>\n",
       "    <tr>\n",
       "      <th>현대해상</th>\n",
       "      <td>22,000</td>\n",
       "      <td>+2.09%</td>\n",
       "      <td>15.75</td>\n",
       "    </tr>\n",
       "    <tr>\n",
       "      <th>현대차우</th>\n",
       "      <td>152,600</td>\n",
       "      <td>+1.46%</td>\n",
       "      <td>NaN</td>\n",
       "    </tr>\n",
       "  </tbody>\n",
       "</table>\n",
       "</div>"
      ],
      "text/plain": [
       "           현재가     등락률    ROE\n",
       "종목명                          \n",
       "효성티앤씨  236,500  -0.21%   9.84\n",
       "효성중공업  532,000  +2.70%  14.90\n",
       "호텔신라    44,050  +1.38%  -6.50\n",
       "현대해상    22,000  +2.09%  15.75\n",
       "현대차우   152,600  +1.46%    NaN"
      ]
     },
     "execution_count": 34,
     "metadata": {},
     "output_type": "execute_result"
    }
   ],
   "source": [
    "# index 삭제후 종목명을 index지정\n",
    "\n",
    "# index삭제\n",
    "# df.reset_index(inplace=True)  \n",
    "\n",
    "# index 지정\n",
    "# df.set_index(\"종목명\",inplace=True)\n",
    "\n",
    "# 정렬\n",
    "# df.sort_index(inplace=True) # 순차정렬\n",
    "# df.sort_index(ascending=False,inplace=True) # 역순정렬\n",
    "df.head(10)\n",
    "df[df.columns[[1,3,-1]]][:5]  # columns출력 1,3,-1(끝번)\n"
   ]
  },
  {
   "cell_type": "code",
   "execution_count": null,
   "id": "eb002d14",
   "metadata": {},
   "outputs": [
    {
     "data": {
      "text/html": [
       "<div>\n",
       "<style scoped>\n",
       "    .dataframe tbody tr th:only-of-type {\n",
       "        vertical-align: middle;\n",
       "    }\n",
       "\n",
       "    .dataframe tbody tr th {\n",
       "        vertical-align: top;\n",
       "    }\n",
       "\n",
       "    .dataframe thead th {\n",
       "        text-align: right;\n",
       "    }\n",
       "</style>\n",
       "<table border=\"1\" class=\"dataframe\">\n",
       "  <thead>\n",
       "    <tr style=\"text-align: right;\">\n",
       "      <th></th>\n",
       "      <th>번호</th>\n",
       "      <th>현재가</th>\n",
       "      <th>전일비</th>\n",
       "      <th>등락률</th>\n",
       "      <th>액면가</th>\n",
       "      <th>시가총액</th>\n",
       "      <th>상장주식수</th>\n",
       "      <th>외국인비율</th>\n",
       "      <th>거래량</th>\n",
       "      <th>PER</th>\n",
       "      <th>ROE</th>\n",
       "    </tr>\n",
       "    <tr>\n",
       "      <th>종목명</th>\n",
       "      <th></th>\n",
       "      <th></th>\n",
       "      <th></th>\n",
       "      <th></th>\n",
       "      <th></th>\n",
       "      <th></th>\n",
       "      <th></th>\n",
       "      <th></th>\n",
       "      <th></th>\n",
       "      <th></th>\n",
       "      <th></th>\n",
       "    </tr>\n",
       "  </thead>\n",
       "  <tbody>\n",
       "    <tr>\n",
       "      <th>효성티앤씨</th>\n",
       "      <td>245</td>\n",
       "      <td>236,500</td>\n",
       "      <td>하락500</td>\n",
       "      <td>-0.21%</td>\n",
       "      <td>5,000</td>\n",
       "      <td>10,235</td>\n",
       "      <td>4,328</td>\n",
       "      <td>17.85</td>\n",
       "      <td>2,453</td>\n",
       "      <td>7.61</td>\n",
       "      <td>9.84</td>\n",
       "    </tr>\n",
       "    <tr>\n",
       "      <th>효성중공업</th>\n",
       "      <td>83</td>\n",
       "      <td>532,000</td>\n",
       "      <td>상승14,000</td>\n",
       "      <td>+2.70%</td>\n",
       "      <td>5,000</td>\n",
       "      <td>49,607</td>\n",
       "      <td>9,325</td>\n",
       "      <td>15.84</td>\n",
       "      <td>30,049</td>\n",
       "      <td>22.28</td>\n",
       "      <td>14.90</td>\n",
       "    </tr>\n",
       "    <tr>\n",
       "      <th>호텔신라</th>\n",
       "      <td>177</td>\n",
       "      <td>44,050</td>\n",
       "      <td>상승600</td>\n",
       "      <td>+1.38%</td>\n",
       "      <td>5,000</td>\n",
       "      <td>17,289</td>\n",
       "      <td>39,248</td>\n",
       "      <td>14.99</td>\n",
       "      <td>59,944</td>\n",
       "      <td>-28.64</td>\n",
       "      <td>-6.50</td>\n",
       "    </tr>\n",
       "  </tbody>\n",
       "</table>\n",
       "</div>"
      ],
      "text/plain": [
       "        번호      현재가       전일비     등락률    액면가    시가총액   상장주식수  외국인비율     거래량  \\\n",
       "종목명                                                                           \n",
       "효성티앤씨  245  236,500     하락500  -0.21%  5,000  10,235   4,328  17.85   2,453   \n",
       "효성중공업   83  532,000  상승14,000  +2.70%  5,000  49,607   9,325  15.84  30,049   \n",
       "호텔신라   177   44,050     상승600  +1.38%  5,000  17,289  39,248  14.99  59,944   \n",
       "\n",
       "          PER    ROE  \n",
       "종목명                   \n",
       "효성티앤씨    7.61   9.84  \n",
       "효성중공업   22.28  14.90  \n",
       "호텔신라   -28.64  -6.50  "
      ]
     },
     "execution_count": 40,
     "metadata": {},
     "output_type": "execute_result"
    }
   ],
   "source": [
    "#### df - column 정보 출력, df.iloc, df.loc - row정보를 출력\n",
    "df['현재가']\n",
    "df[:][:5]\n",
    "df.iloc[:3]"
   ]
  },
  {
   "cell_type": "code",
   "execution_count": null,
   "id": "0b366c35",
   "metadata": {},
   "outputs": [
    {
     "name": "stdout",
     "output_type": "stream",
     "text": [
      "<class 'pandas.core.frame.DataFrame'>\n",
      "Index: 250 entries, 효성티앤씨 to ACE KRX금현물\n",
      "Data columns (total 11 columns):\n",
      " #   Column  Non-Null Count  Dtype  \n",
      "---  ------  --------------  -----  \n",
      " 0   번호      250 non-null    int64  \n",
      " 1   현재가     250 non-null    int64  \n",
      " 2   전일비     250 non-null    object \n",
      " 3   등락률     250 non-null    object \n",
      " 4   액면가     250 non-null    object \n",
      " 5   시가총액    250 non-null    object \n",
      " 6   상장주식수   250 non-null    object \n",
      " 7   외국인비율   250 non-null    float64\n",
      " 8   거래량     250 non-null    object \n",
      " 9   PER     207 non-null    object \n",
      " 10  ROE     202 non-null    float64\n",
      "dtypes: float64(2), int64(2), object(7)\n",
      "memory usage: 31.5+ KB\n"
     ]
    }
   ],
   "source": [
    "# df.info()  # 현재가 타입 - object\n",
    "df['현재가'][:3]  # 타입을 변경하려고 함.\n",
    "\n",
    "## 숫자타입 변경시 \n",
    "# 1. 천단위 표시 제거를 해야 함.\n",
    "# 2. str.replace(\",\",\"\")\n",
    "# 3. 타입 변경(astype(int))\n",
    "df['현재가'] = df['현재가'].str.replace(\",\",\"\").astype(int)\n",
    "df['현재가']  # object\n",
    "\n",
    "df.info()\n",
    "\n",
    "### 최대값,최소값, 상위5개 출력, 하위 5개 출력, 평균\n"
   ]
  }
 ],
 "metadata": {
  "kernelspec": {
   "display_name": "Python 3",
   "language": "python",
   "name": "python3"
  },
  "language_info": {
   "codemirror_mode": {
    "name": "ipython",
    "version": 3
   },
   "file_extension": ".py",
   "mimetype": "text/x-python",
   "name": "python",
   "nbconvert_exporter": "python",
   "pygments_lexer": "ipython3",
   "version": "3.13.2"
  }
 },
 "nbformat": 4,
 "nbformat_minor": 5
}
