{
 "cells": [
  {
   "cell_type": "code",
   "execution_count": 14,
   "id": "a37e2971",
   "metadata": {},
   "outputs": [],
   "source": [
    "import pandas as pd\n",
    "import numpy as np\n",
    "df = pd.read_excel(\"data/score.xlsx\",index_col=\"지원번호\")"
   ]
  },
  {
   "cell_type": "markdown",
   "id": "f8c9ca05",
   "metadata": {},
   "source": [
    "데이터 수정"
   ]
  },
  {
   "cell_type": "code",
   "execution_count": 2,
   "id": "bec5a1c2",
   "metadata": {},
   "outputs": [],
   "source": [
    "### 1. 특정데이터 찾아서 변경 : replace\n",
    "# df['학교'].replace({\"디지털고\":\"소프트고\"},inplace=True)\n",
    "\n",
    "## 2개를 변경 - inplace 반영됨\n",
    "# df['학교'].replace({'가산고':'금천고','디지털고':'단지고'})\n",
    "\n",
    "### 2. 모든문자 소문자로 변경\n",
    "# df['SW특기'] = df['SW특기'].str.lower()\n",
    "\n",
    "### 모든문자 대문자로 변경\n",
    "# df['SW특기'] = df['SW특기'].str.upper()\n",
    "\n",
    "## 첫글자 대문자, 나머지 소문자로 변경\n",
    "# df['SW특기'] = df['SW특기'].str.capitalize()\n",
    "\n",
    "### 3. 특정문자에 문자를 추가하는 방법\n",
    "## 학교 -> 가산고등학교, 디지털고등학교\n",
    "# df['학교'] = df['학교'] + '등학교'"
   ]
  },
  {
   "cell_type": "markdown",
   "id": "824482e6",
   "metadata": {},
   "source": [
    "데이터 추가"
   ]
  },
  {
   "cell_type": "code",
   "execution_count": 15,
   "id": "e416be89",
   "metadata": {},
   "outputs": [],
   "source": [
    "df['합계'] = df['국어']+df['영어']+df['수학']+df['과학']+df['사회']\n",
    "df['평균'] = df['합계'] / 5\n",
    "df['결과'] = '불합격'"
   ]
  },
  {
   "cell_type": "code",
   "execution_count": 19,
   "id": "a3cb9a45",
   "metadata": {},
   "outputs": [],
   "source": [
    "### 컬럼 추가\n",
    "# 없는 컬럼을 입력하면 컬럼이 추가 됨.\n",
    "# df['합계'] = df['국어']+df['영어']+df['수학']+df['과학']+df['사회']\n",
    "\n",
    "## 평균을 추가하시오.\n",
    "# df['평균'] = df['합계'] / 5\n",
    "\n",
    "## 결과 컬럼을 추가하고 내용은 불합격 입력하시오.\n",
    "# df['결과'] = '불합격'\n",
    "\n",
    "## 평균컬럼이 60점 이상인 학생만 출력하시오.\n",
    "# filt = df['평균']>=60\n",
    "# df[filt]\n",
    "\n",
    "### 데이터 조건 수정부분\n",
    "## 평균이 60점 이상이면 결과컬럼에 합격이라고 입력하시오.\n",
    "# filt = df['평균']>=60\n",
    "# # df[filt]['결과']  # 조건 검색이 안됨.\n",
    "# df.loc[filt,'결과'] = \"합격\"\n",
    "# df\n"
   ]
  },
  {
   "cell_type": "code",
   "execution_count": null,
   "id": "39518f21",
   "metadata": {},
   "outputs": [],
   "source": [
    "df = pd.read_csv('data/stuscore.csv',index_col='번호')"
   ]
  },
  {
   "cell_type": "code",
   "execution_count": 40,
   "id": "10dc9bb0",
   "metadata": {},
   "outputs": [],
   "source": [
    "### 합계,평균을 추가하시오.\n",
    "# df['합계'] = df['국어']+df['영어']+df['수학']\n",
    "# df['평균'] = df['합계']/3\n",
    "\n",
    "### 결과 컬럼을 추가하고 평균이 60점 이상이면 합격, 그 외 불합격 처리하시오.\n",
    "# df['결과'] = '불합격'\n",
    "# df.loc[df['평균']>=80,'결과'] = '합격'\n",
    "# df\n",
    "# df['평균']>=80"
   ]
  },
  {
   "cell_type": "markdown",
   "id": "4bbec028",
   "metadata": {},
   "source": [
    "데이터 삭제 - 컬럼삭제 drop(columns)"
   ]
  },
  {
   "cell_type": "code",
   "execution_count": 47,
   "id": "9e20273c",
   "metadata": {},
   "outputs": [],
   "source": [
    "### 컬럼 삭제 : drop, inplace 반영됨.\n",
    "# df.drop(columns=['결과'],inplace=True)\n",
    "# 컬럼 2개 삭제\n",
    "# df.drop(columns=['합계','평균'],inplace=True)"
   ]
  },
  {
   "cell_type": "markdown",
   "id": "9ea571ae",
   "metadata": {},
   "source": [
    "데이터 삭제 - row 행 삭제(index)"
   ]
  },
  {
   "cell_type": "code",
   "execution_count": 70,
   "id": "7a7bd11c",
   "metadata": {},
   "outputs": [],
   "source": [
    "df = pd.read_excel('data/score.xlsx',index_col='지원번호')"
   ]
  },
  {
   "cell_type": "code",
   "execution_count": null,
   "id": "dfbafa29",
   "metadata": {},
   "outputs": [
    {
     "data": {
      "text/html": [
       "<div>\n",
       "<style scoped>\n",
       "    .dataframe tbody tr th:only-of-type {\n",
       "        vertical-align: middle;\n",
       "    }\n",
       "\n",
       "    .dataframe tbody tr th {\n",
       "        vertical-align: top;\n",
       "    }\n",
       "\n",
       "    .dataframe thead th {\n",
       "        text-align: right;\n",
       "    }\n",
       "</style>\n",
       "<table border=\"1\" class=\"dataframe\">\n",
       "  <thead>\n",
       "    <tr style=\"text-align: right;\">\n",
       "      <th></th>\n",
       "      <th>이름</th>\n",
       "      <th>학교</th>\n",
       "      <th>키</th>\n",
       "      <th>국어</th>\n",
       "      <th>영어</th>\n",
       "      <th>수학</th>\n",
       "      <th>과학</th>\n",
       "      <th>사회</th>\n",
       "      <th>SW특기</th>\n",
       "    </tr>\n",
       "    <tr>\n",
       "      <th>지원번호</th>\n",
       "      <th></th>\n",
       "      <th></th>\n",
       "      <th></th>\n",
       "      <th></th>\n",
       "      <th></th>\n",
       "      <th></th>\n",
       "      <th></th>\n",
       "      <th></th>\n",
       "      <th></th>\n",
       "    </tr>\n",
       "  </thead>\n",
       "  <tbody>\n",
       "    <tr>\n",
       "      <th>1번</th>\n",
       "      <td>홍길동</td>\n",
       "      <td>가산고</td>\n",
       "      <td>197</td>\n",
       "      <td>90</td>\n",
       "      <td>85</td>\n",
       "      <td>100</td>\n",
       "      <td>95</td>\n",
       "      <td>85</td>\n",
       "      <td>Python</td>\n",
       "    </tr>\n",
       "    <tr>\n",
       "      <th>6번</th>\n",
       "      <td>김유신</td>\n",
       "      <td>디지털고</td>\n",
       "      <td>202</td>\n",
       "      <td>80</td>\n",
       "      <td>100</td>\n",
       "      <td>95</td>\n",
       "      <td>85</td>\n",
       "      <td>80</td>\n",
       "      <td>C</td>\n",
       "    </tr>\n",
       "    <tr>\n",
       "      <th>8번</th>\n",
       "      <td>홍길순</td>\n",
       "      <td>디지털고</td>\n",
       "      <td>190</td>\n",
       "      <td>100</td>\n",
       "      <td>85</td>\n",
       "      <td>90</td>\n",
       "      <td>95</td>\n",
       "      <td>95</td>\n",
       "      <td>C#</td>\n",
       "    </tr>\n",
       "  </tbody>\n",
       "</table>\n",
       "</div>"
      ],
      "text/plain": [
       "       이름    학교    키   국어   영어   수학  과학  사회    SW특기\n",
       "지원번호                                               \n",
       "1번    홍길동   가산고  197   90   85  100  95  85  Python\n",
       "6번    김유신  디지털고  202   80  100   95  85  80       C\n",
       "8번    홍길순  디지털고  190  100   85   90  95  95      C#"
      ]
     },
     "execution_count": 71,
     "metadata": {},
     "output_type": "execute_result"
    }
   ],
   "source": [
    "# row삭제 - index행 삭제,  inplace 반영됨.\n",
    "# df.drop(index='2번',inplace=True)\n",
    "\n",
    "### 수학 80점 미만 학생을 검색하시오.\n",
    "# df[df['수학']<80]\n",
    "\n",
    "# df.drop(index=['2번','3번','5번'])\n",
    "# df.index[[2,5,6]]\n",
    "\n",
    "### index를 가지고 데이터 삭제 \n",
    "# df.drop(index=df.index[[2,5,6]],inplace=True)\n",
    "\n",
    "\n",
    "### 조건을 사용해서 데이터 삭제\n",
    "# 80점 미만 검색\n",
    "# df[df['수학']<80].index\n",
    "\n",
    "### 80점 미만인 학생 삭제\n",
    "df.drop(index=df[df['수학']<80].index,inplace=True)\n",
    "df\n",
    "\n"
   ]
  }
 ],
 "metadata": {
  "kernelspec": {
   "display_name": "Python 3",
   "language": "python",
   "name": "python3"
  },
  "language_info": {
   "codemirror_mode": {
    "name": "ipython",
    "version": 3
   },
   "file_extension": ".py",
   "mimetype": "text/x-python",
   "name": "python",
   "nbconvert_exporter": "python",
   "pygments_lexer": "ipython3",
   "version": "3.13.2"
  }
 },
 "nbformat": 4,
 "nbformat_minor": 5
}
